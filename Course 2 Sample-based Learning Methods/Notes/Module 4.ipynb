{
 "cells": [
  {
   "cell_type": "markdown",
   "metadata": {},
   "source": [
    "# SARSA & Q-Learning\n",
    "\n",
    "## SARSA Algorithm\n",
    "\n",
    "### Ý nghĩa tên gọi\n",
    "**SARSA** = **S**tate **A**ction **R**eward **S**tate **A**ction\n",
    "\n",
    "```\n",
    "S → A → R → S → A\n",
    "↓   ↓   ↓   ↓   ↓\n",
    "Sₜ  Aₜ  Rₜ₊₁ Sₜ₊₁ Aₜ₊₁\n",
    "```\n",
    "\n",
    "### Cách hoạt động của SARSA\n",
    "\n",
    "SARSA dự đoán **Q-values** cho các cặp state-action (khác với TD learning chỉ estimate V-values)\n",
    "\n",
    "**Quy trình 3 bước**:\n",
    "1. **Chọn action**: Agent chọn action Aₜ ở state Sₜ → tạo cặp (Sₜ, Aₜ)\n",
    "2. **Quan sát**: Thực hiện action, nhận reward Rₜ₊₁ và next state Sₜ₊₁  \n",
    "3. **Commit next action**: Agent **chọn trước** Aₜ₊₁ rồi mới update Q-value\n",
    "\n",
    "**🔑 Key insight**: SARSA update mỗi step thay vì chờ cuối episode!"
   ]
  },
  {
   "cell_type": "markdown",
   "metadata": {},
   "source": [
    "## SARSA Update Equation\n",
    "\n",
    "```\n",
    "Q(Sₜ, Aₜ) ← Q(Sₜ, Aₜ) + α[Rₜ₊₁ + γQ(Sₜ₊₁, Aₜ₊₁) - Q(Sₜ, Aₜ)]\n",
    "```\n",
    "\n",
    "**Breakdown**:\n",
    "- `Q(Sₜ, Aₜ)`: Current Q-value estimate\n",
    "- `α`: Learning rate\n",
    "- `Rₜ₊₁ + γQ(Sₜ₊₁, Aₜ₊₁)`: Target value (bootstrap từ next Q-value)\n",
    "- `[...]`: TD error\n",
    "\n",
    "**⚠️ Điểm quan trọng**: SARSA dùng action **đã được chọn** Aₜ₊₁ để update → **on-policy**"
   ]
  },
  {
   "cell_type": "markdown",
   "metadata": {},
   "source": [
    "## Q-Learning vs SARSA\n",
    "\n",
    "### Sự khác biệt cơ bản\n",
    "\n",
    "| Aspect | SARSA | Q-Learning |\n",
    "|--------|-------|------------|\n",
    "| **Base on** | Bellman Equation | Bellman **Optimality** Equation |\n",
    "| **Policy type** | On-policy | Off-policy |\n",
    "| **Action for update** | Actual next action Aₜ₊₁ | **Max** over all actions |\n",
    "| **Update formula** | `Q(s,a) + α[r + γQ(s',a') - Q(s,a)]` | `Q(s,a) + α[r + γmax Q(s',a) - Q(s,a)]` |\n",
    "\n",
    "### Q-Learning Algorithm\n",
    "\n",
    "**Input**: \n",
    "- Learning rate α ∈ (0,1]\n",
    "- Exploration ε > 0\n",
    "\n",
    "**Steps**:\n",
    "1. **Init**: Q(s,a) arbitrarily, Q(terminal,·) = 0\n",
    "2. **Mỗi episode**:\n",
    "   - Initialize state S\n",
    "   - **Mỗi step**:\n",
    "     - Chọn A từ S dùng policy từ Q (vd: ε-greedy)\n",
    "     - Thực hiện A, quan sát R, S'\n",
    "     - **Update**: `Q(S,A) ← Q(S,A) + α[R + γmax Q(S',a) - Q(S,A)]`\n",
    "     - S ← S'\n",
    "   - Đến khi S terminal\n",
    "\n",
    "**🔥 Điểm mạnh Q-learning**: Không cần biết policy đang follow, luôn học optimal policy!"
   ]
  },
  {
   "cell_type": "markdown",
   "metadata": {},
   "source": [
    "## Expected SARSA \n",
    "\n",
    "### Ý tưởng\n",
    "Thay vì sample 1 action như SARSA thông thường, **Expected SARSA** tính **expectation** trên tất cả possible actions theo policy hiện tại.\n",
    "\n",
    "### Update Formula\n",
    "```\n",
    "Q(Sₜ, Aₜ) ← Q(Sₜ, Aₜ) + α[Rₜ₊₁ + γ∑π(a'|Sₜ₊₁)Q(Sₜ₊₁, a') - Q(Sₜ, Aₜ)]\n",
    "\n",
    "```\n",
    "\n",
    "**So với SARSA thông thường**:\n",
    "- SARSA: Dùng Q(Sₜ₊₁, Aₜ₊₁) - **1 action cụ thể**\n",
    "- Expected SARSA: Dùng ∑π(a'|Sₜ₊₁)Q(Sₜ₊₁, a') - **weighted average tất cả actions**\n",
    "\n",
    "### Trade-offs\n",
    "\n",
    "**Ưu điểm**:\n",
    "- ✅ **Lower variance** (vì dùng expectation thay vì sample)\n",
    "- ✅ **Học nhanh hơn** policy tốt\n",
    "- ✅ **Robust** với large step sizes\n",
    "\n",
    "**Nhược điểm**:\n",
    "- ❌ **Expensive** hơn (phải tính expectation)\n",
    "- ❌ Cần biết policy π(a'|s')"
   ]
  },
  {
   "cell_type": "markdown",
   "metadata": {},
   "source": [
    "## Tổng kết & So sánh\n",
    "\n",
    "### Khi nào dùng gì?\n",
    "\n",
    "**SARSA (On-policy)**:\n",
    "- Khi muốn agent học policy mà nó đang follow\n",
    "- Safer trong real-world applications\n",
    "- Tốt cho exploration-exploitation balance\n",
    "\n",
    "**Q-Learning (Off-policy)**:\n",
    "- Khi muốn học optimal policy bất kể đang follow policy gì\n",
    "- Flexible hơn, có thể dùng data từ bất kỳ policy nào\n",
    "- Converge đến optimal Q* nếu điều kiện thỏa mãn\n",
    "\n",
    "**Expected SARSA**:\n",
    "- Khi computational cost không là vấn đề\n",
    "- Muốn stable learning với lower variance\n",
    "- Có thể hoạt động như on-policy hoặc off-policy\n",
    "\n",
    "---\n",
    "\n",
    "*Personal note: Q-learning thường được dùng nhiều hơn trong practice vì tính flexibility, nhưng SARSA có thể an toàn hơn trong những tình huống real-world. Expected SARSA là middle ground tốt nếu computational budget cho phép.*"
   ]
  }
 ],
 "metadata": {
  "kernelspec": {
   "display_name": "Python 3",
   "language": "python",
   "name": "python3"
  },
  "language_info": {
   "codemirror_mode": {
    "name": "ipython",
    "version": 3
   },
   "file_extension": ".py",
   "mimetype": "text/x-python",
   "name": "python",
   "nbconvert_exporter": "python",
   "pygments_lexer": "ipython3",
   "version": "3.8.0"
  }
 },
 "nbformat": 4,
 "nbformat_minor": 4
}
