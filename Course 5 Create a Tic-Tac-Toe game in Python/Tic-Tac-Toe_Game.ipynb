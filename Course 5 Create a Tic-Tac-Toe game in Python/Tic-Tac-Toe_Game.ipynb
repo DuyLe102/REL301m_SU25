{
 "cells": [
  {
   "cell_type": "code",
   "execution_count": 3,
   "id": "75aa1a83",
   "metadata": {},
   "outputs": [
    {
     "name": "stdout",
     "output_type": "stream",
     "text": [
      "pygame 2.6.1 (SDL 2.28.4, Python 3.11.1)\n",
      "Hello from the pygame community. https://www.pygame.org/contribute.html\n"
     ]
    }
   ],
   "source": [
    "import numpy as np\n",
    "import pygame"
   ]
  },
  {
   "cell_type": "code",
   "execution_count": 4,
   "id": "14116249",
   "metadata": {},
   "outputs": [],
   "source": [
    "# Constants\n",
    "SIZE = WIDTH, HEIGHT = 600, 600\n",
    "WHITE, BLACK, RED, GREEN = (255, 255, 255), (0, 0, 0), (255, 0, 0), (0, 255, 0)\n",
    "ROWS = COLS = 3\n",
    "CELL = WIDTH // COLS\n",
    "board = np.zeros((ROWS, COLS))\n",
    "\n",
    "pygame.init()\n",
    "win = pygame.display.set_mode(SIZE)\n",
    "pygame.display.set_caption(\"Tic Tac Toe\")"
   ]
  },
  {
   "cell_type": "code",
   "execution_count": 5,
   "id": "dd27785b",
   "metadata": {},
   "outputs": [],
   "source": [
    "def draw_grid():\n",
    "    win.fill(WHITE)\n",
    "    for i in range(1, 3):\n",
    "        pygame.draw.line(win, BLACK, (0, i * CELL), (WIDTH, i * CELL), 5)\n",
    "        pygame.draw.line(win, BLACK, (i * CELL, 0), (i * CELL, HEIGHT), 5)\n",
    "\n",
    "\n",
    "def draw_mark(row, col, player):\n",
    "    cx, cy = col * CELL + CELL // 2, row * CELL + CELL // 2\n",
    "    if player == 1:\n",
    "        pygame.draw.circle(win, GREEN, (cx, cy), CELL // 3, 5)\n",
    "    else:\n",
    "        offset = CELL // 3\n",
    "        pygame.draw.line(win, RED, (cx - offset, cy - offset), (cx + offset, cy + offset), 5)\n",
    "        pygame.draw.line(win, RED, (cx + offset, cy - offset), (cx - offset, cy + offset), 5)\n",
    "\n",
    "\n",
    "def check_win(player):\n",
    "    color = GREEN if player == 1 else RED\n",
    "    for i in range(3):\n",
    "        if np.all(board[i] == player):\n",
    "            pygame.draw.line(win, color, (0, i * CELL + CELL // 2), (WIDTH, i * CELL + CELL // 2), 5)\n",
    "            return True\n",
    "        if np.all(board[:, i] == player):\n",
    "            pygame.draw.line(win, color, (i * CELL + CELL // 2, 0), (i * CELL + CELL // 2, HEIGHT), 5)\n",
    "            return True\n",
    "    if np.all(np.diag(board) == player):\n",
    "        pygame.draw.line(win, color, (0, 0), (WIDTH, HEIGHT), 5)\n",
    "        return True\n",
    "    if np.all(np.diag(np.fliplr(board)) == player):\n",
    "        pygame.draw.line(win, color, (0, HEIGHT), (WIDTH, 0), 5)\n",
    "        return True\n",
    "    return False"
   ]
  },
  {
   "cell_type": "code",
   "execution_count": null,
   "id": "4cd15eca",
   "metadata": {},
   "outputs": [
    {
     "name": "stdout",
     "output_type": "stream",
     "text": [
      "Player 1 wins!\n",
      "It's a draw!\n"
     ]
    },
    {
     "ename": "error",
     "evalue": "video system not initialized",
     "output_type": "error",
     "traceback": [
      "\u001b[1;31m---------------------------------------------------------------------------\u001b[0m",
      "\u001b[1;31merror\u001b[0m                                     Traceback (most recent call last)",
      "Cell \u001b[1;32mIn[6], line 6\u001b[0m\n\u001b[0;32m      3\u001b[0m turn \u001b[38;5;241m=\u001b[39m \u001b[38;5;241m0\u001b[39m\n\u001b[0;32m      5\u001b[0m \u001b[38;5;28;01mwhile\u001b[39;00m \u001b[38;5;28;01mTrue\u001b[39;00m:\n\u001b[1;32m----> 6\u001b[0m     \u001b[38;5;28;01mfor\u001b[39;00m event \u001b[38;5;129;01min\u001b[39;00m \u001b[43mpygame\u001b[49m\u001b[38;5;241;43m.\u001b[39;49m\u001b[43mevent\u001b[49m\u001b[38;5;241;43m.\u001b[39;49m\u001b[43mget\u001b[49m\u001b[43m(\u001b[49m\u001b[43m)\u001b[49m:\n\u001b[0;32m      7\u001b[0m         \u001b[38;5;28;01mif\u001b[39;00m event\u001b[38;5;241m.\u001b[39mtype \u001b[38;5;241m==\u001b[39m pygame\u001b[38;5;241m.\u001b[39mQUIT:\n\u001b[0;32m      8\u001b[0m             pygame\u001b[38;5;241m.\u001b[39mquit()\n",
      "\u001b[1;31merror\u001b[0m: video system not initialized"
     ]
    },
    {
     "ename": "",
     "evalue": "",
     "output_type": "error",
     "traceback": [
      "\u001b[1;31mThe Kernel crashed while executing code in the current cell or a previous cell. \n",
      "\u001b[1;31mPlease review the code in the cell(s) to identify a possible cause of the failure. \n",
      "\u001b[1;31mClick <a href='https://aka.ms/vscodeJupyterKernelCrash'>here</a> for more info. \n",
      "\u001b[1;31mView Jupyter <a href='command:jupyter.viewOutput'>log</a> for further details."
     ]
    }
   ],
   "source": [
    "draw_grid()\n",
    "pygame.display.update()\n",
    "turn = 0\n",
    "\n",
    "while True:\n",
    "    for event in pygame.event.get():\n",
    "        if event.type == pygame.QUIT:\n",
    "            pygame.quit()\n",
    "            exit()\n",
    "        if event.type == pygame.MOUSEBUTTONDOWN:\n",
    "            col, row = event.pos[0] // CELL, event.pos[1] // CELL\n",
    "            if board[row, col] == 0:\n",
    "                player = 1 if turn % 2 == 0 else 2\n",
    "                board[row, col] = player\n",
    "                draw_mark(row, col, player)\n",
    "\n",
    "                if check_win(player):\n",
    "                    print(f\"Player {player} wins!\")\n",
    "                    pygame.display.update()\n",
    "                    pygame.time.delay(2000)\n",
    "                    board.fill(0)\n",
    "                    draw_grid()\n",
    "                elif np.all(board != 0):\n",
    "                    print(\"It's a draw!\")\n",
    "                    pygame.display.update()\n",
    "                    pygame.time.delay(2000)\n",
    "                    board.fill(0)\n",
    "                    draw_grid()\n",
    "\n",
    "                turn += 1\n",
    "                pygame.display.update()"
   ]
  },
  {
   "cell_type": "code",
   "execution_count": null,
   "id": "a593b7ae",
   "metadata": {},
   "outputs": [],
   "source": []
  }
 ],
 "metadata": {
  "kernelspec": {
   "display_name": "Python 3",
   "language": "python",
   "name": "python3"
  },
  "language_info": {
   "codemirror_mode": {
    "name": "ipython",
    "version": 3
   },
   "file_extension": ".py",
   "mimetype": "text/x-python",
   "name": "python",
   "nbconvert_exporter": "python",
   "pygments_lexer": "ipython3",
   "version": "3.11.1"
  }
 },
 "nbformat": 4,
 "nbformat_minor": 5
}
